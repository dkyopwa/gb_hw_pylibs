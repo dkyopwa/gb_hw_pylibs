{
 "cells": [
  {
   "cell_type": "markdown",
   "id": "8bd95ffa",
   "metadata": {},
   "source": [
    "# Hometask 8"
   ]
  },
  {
   "cell_type": "markdown",
   "id": "31da40e8",
   "metadata": {},
   "source": [
    "## Task 1"
   ]
  },
  {
   "cell_type": "markdown",
   "id": "f0cd92f7",
   "metadata": {},
   "source": [
    "Импортируйте библиотеки pandas, numpy и matplotlib.\n",
    "\n",
    "Загрузите \"Boston House Prices dataset\" из встроенных наборов данных библиотеки sklearn.\n",
    "\n",
    "Создайте датафреймы X и y из этих данных.\n",
    "\n",
    "Разбейте эти датафреймы на тренировочные (X_train, y_train) и тестовые (X_test, y_test) с помощью функции train_test_split так, чтобы размер тестовой выборки составлял 20% от всех данных, при этом аргумент random_state должен быть равен 42.\n",
    "\n",
    "Масштабируйте данные с помощью StandardScaler.\n",
    "\n",
    "Постройте модель TSNE на тренировочный данных с параметрами: n_components=2, learning_rate=250, random_state=42.\n",
    "\n",
    "Постройте диаграмму рассеяния на этих данных."
   ]
  },
  {
   "cell_type": "code",
   "execution_count": 87,
   "id": "31c28fc9",
   "metadata": {},
   "outputs": [],
   "source": [
    "# Импортируйте библиотеки pandas, numpy и matplotlib.\n",
    "import numpy as np\n",
    "import pandas as pd\n",
    "import matplotlib\n",
    "import matplotlib.pyplot as plt\n",
    "%matplotlib inline"
   ]
  },
  {
   "cell_type": "code",
   "execution_count": 88,
   "id": "06a8eb6d",
   "metadata": {},
   "outputs": [
    {
     "name": "stderr",
     "output_type": "stream",
     "text": [
      "/home/nevl/anaconda3/envs/learn/lib/python3.9/site-packages/sklearn/utils/deprecation.py:87: FutureWarning: Function load_boston is deprecated; `load_boston` is deprecated in 1.0 and will be removed in 1.2.\n",
      "\n",
      "    The Boston housing prices dataset has an ethical problem. You can refer to\n",
      "    the documentation of this function for further details.\n",
      "\n",
      "    The scikit-learn maintainers therefore strongly discourage the use of this\n",
      "    dataset unless the purpose of the code is to study and educate about\n",
      "    ethical issues in data science and machine learning.\n",
      "\n",
      "    In this special case, you can fetch the dataset from the original\n",
      "    source::\n",
      "\n",
      "        import pandas as pd\n",
      "        import numpy as np\n",
      "\n",
      "\n",
      "        data_url = \"http://lib.stat.cmu.edu/datasets/boston\"\n",
      "        raw_df = pd.read_csv(data_url, sep=\"\\s+\", skiprows=22, header=None)\n",
      "        data = np.hstack([raw_df.values[::2, :], raw_df.values[1::2, :2]])\n",
      "        target = raw_df.values[1::2, 2]\n",
      "\n",
      "    Alternative datasets include the California housing dataset (i.e.\n",
      "    :func:`~sklearn.datasets.fetch_california_housing`) and the Ames housing\n",
      "    dataset. You can load the datasets as follows::\n",
      "\n",
      "        from sklearn.datasets import fetch_california_housing\n",
      "        housing = fetch_california_housing()\n",
      "\n",
      "    for the California housing dataset and::\n",
      "\n",
      "        from sklearn.datasets import fetch_openml\n",
      "        housing = fetch_openml(name=\"house_prices\", as_frame=True)\n",
      "\n",
      "    for the Ames housing dataset.\n",
      "    \n",
      "  warnings.warn(msg, category=FutureWarning)\n"
     ]
    },
    {
     "data": {
      "text/plain": [
       "(506, 13)"
      ]
     },
     "execution_count": 88,
     "metadata": {},
     "output_type": "execute_result"
    }
   ],
   "source": [
    "# Загрузите \"Boston House Prices dataset\" из встроенных наборов данных библиотеки sklearn.\n",
    "from sklearn.datasets import load_boston\n",
    "\n",
    "boston = load_boston()\n",
    "data = boston[\"data\"]\n",
    "feature_names = boston[\"feature_names\"]\n",
    "target = boston[\"target\"]\n",
    "\n",
    "data.shape"
   ]
  },
  {
   "cell_type": "code",
   "execution_count": 89,
   "id": "2cee4cef",
   "metadata": {},
   "outputs": [
    {
     "data": {
      "text/html": [
       "<div>\n",
       "<style scoped>\n",
       "    .dataframe tbody tr th:only-of-type {\n",
       "        vertical-align: middle;\n",
       "    }\n",
       "\n",
       "    .dataframe tbody tr th {\n",
       "        vertical-align: top;\n",
       "    }\n",
       "\n",
       "    .dataframe thead th {\n",
       "        text-align: right;\n",
       "    }\n",
       "</style>\n",
       "<table border=\"1\" class=\"dataframe\">\n",
       "  <thead>\n",
       "    <tr style=\"text-align: right;\">\n",
       "      <th></th>\n",
       "      <th>CRIM</th>\n",
       "      <th>ZN</th>\n",
       "      <th>INDUS</th>\n",
       "      <th>CHAS</th>\n",
       "      <th>NOX</th>\n",
       "      <th>RM</th>\n",
       "      <th>AGE</th>\n",
       "      <th>DIS</th>\n",
       "      <th>RAD</th>\n",
       "      <th>TAX</th>\n",
       "      <th>PTRATIO</th>\n",
       "      <th>B</th>\n",
       "      <th>LSTAT</th>\n",
       "    </tr>\n",
       "  </thead>\n",
       "  <tbody>\n",
       "    <tr>\n",
       "      <th>0</th>\n",
       "      <td>0.00632</td>\n",
       "      <td>18.0</td>\n",
       "      <td>2.31</td>\n",
       "      <td>0.0</td>\n",
       "      <td>0.538</td>\n",
       "      <td>6.575</td>\n",
       "      <td>65.2</td>\n",
       "      <td>4.0900</td>\n",
       "      <td>1.0</td>\n",
       "      <td>296.0</td>\n",
       "      <td>15.3</td>\n",
       "      <td>396.90</td>\n",
       "      <td>4.98</td>\n",
       "    </tr>\n",
       "    <tr>\n",
       "      <th>1</th>\n",
       "      <td>0.02731</td>\n",
       "      <td>0.0</td>\n",
       "      <td>7.07</td>\n",
       "      <td>0.0</td>\n",
       "      <td>0.469</td>\n",
       "      <td>6.421</td>\n",
       "      <td>78.9</td>\n",
       "      <td>4.9671</td>\n",
       "      <td>2.0</td>\n",
       "      <td>242.0</td>\n",
       "      <td>17.8</td>\n",
       "      <td>396.90</td>\n",
       "      <td>9.14</td>\n",
       "    </tr>\n",
       "    <tr>\n",
       "      <th>2</th>\n",
       "      <td>0.02729</td>\n",
       "      <td>0.0</td>\n",
       "      <td>7.07</td>\n",
       "      <td>0.0</td>\n",
       "      <td>0.469</td>\n",
       "      <td>7.185</td>\n",
       "      <td>61.1</td>\n",
       "      <td>4.9671</td>\n",
       "      <td>2.0</td>\n",
       "      <td>242.0</td>\n",
       "      <td>17.8</td>\n",
       "      <td>392.83</td>\n",
       "      <td>4.03</td>\n",
       "    </tr>\n",
       "    <tr>\n",
       "      <th>3</th>\n",
       "      <td>0.03237</td>\n",
       "      <td>0.0</td>\n",
       "      <td>2.18</td>\n",
       "      <td>0.0</td>\n",
       "      <td>0.458</td>\n",
       "      <td>6.998</td>\n",
       "      <td>45.8</td>\n",
       "      <td>6.0622</td>\n",
       "      <td>3.0</td>\n",
       "      <td>222.0</td>\n",
       "      <td>18.7</td>\n",
       "      <td>394.63</td>\n",
       "      <td>2.94</td>\n",
       "    </tr>\n",
       "    <tr>\n",
       "      <th>4</th>\n",
       "      <td>0.06905</td>\n",
       "      <td>0.0</td>\n",
       "      <td>2.18</td>\n",
       "      <td>0.0</td>\n",
       "      <td>0.458</td>\n",
       "      <td>7.147</td>\n",
       "      <td>54.2</td>\n",
       "      <td>6.0622</td>\n",
       "      <td>3.0</td>\n",
       "      <td>222.0</td>\n",
       "      <td>18.7</td>\n",
       "      <td>396.90</td>\n",
       "      <td>5.33</td>\n",
       "    </tr>\n",
       "  </tbody>\n",
       "</table>\n",
       "</div>"
      ],
      "text/plain": [
       "      CRIM    ZN  INDUS  CHAS    NOX     RM   AGE     DIS  RAD    TAX  \\\n",
       "0  0.00632  18.0   2.31   0.0  0.538  6.575  65.2  4.0900  1.0  296.0   \n",
       "1  0.02731   0.0   7.07   0.0  0.469  6.421  78.9  4.9671  2.0  242.0   \n",
       "2  0.02729   0.0   7.07   0.0  0.469  7.185  61.1  4.9671  2.0  242.0   \n",
       "3  0.03237   0.0   2.18   0.0  0.458  6.998  45.8  6.0622  3.0  222.0   \n",
       "4  0.06905   0.0   2.18   0.0  0.458  7.147  54.2  6.0622  3.0  222.0   \n",
       "\n",
       "   PTRATIO       B  LSTAT  \n",
       "0     15.3  396.90   4.98  \n",
       "1     17.8  396.90   9.14  \n",
       "2     17.8  392.83   4.03  \n",
       "3     18.7  394.63   2.94  \n",
       "4     18.7  396.90   5.33  "
      ]
     },
     "execution_count": 89,
     "metadata": {},
     "output_type": "execute_result"
    }
   ],
   "source": [
    "# Создайте датафреймы X и y из этих данных.\n",
    "X = pd.DataFrame(data, columns=feature_names)\n",
    "\n",
    "X.head()"
   ]
  },
  {
   "cell_type": "code",
   "execution_count": 90,
   "id": "0e7c6f97",
   "metadata": {},
   "outputs": [
    {
     "name": "stdout",
     "output_type": "stream",
     "text": [
      "<class 'pandas.core.frame.DataFrame'>\n",
      "RangeIndex: 506 entries, 0 to 505\n",
      "Data columns (total 13 columns):\n",
      " #   Column   Non-Null Count  Dtype  \n",
      "---  ------   --------------  -----  \n",
      " 0   CRIM     506 non-null    float64\n",
      " 1   ZN       506 non-null    float64\n",
      " 2   INDUS    506 non-null    float64\n",
      " 3   CHAS     506 non-null    float64\n",
      " 4   NOX      506 non-null    float64\n",
      " 5   RM       506 non-null    float64\n",
      " 6   AGE      506 non-null    float64\n",
      " 7   DIS      506 non-null    float64\n",
      " 8   RAD      506 non-null    float64\n",
      " 9   TAX      506 non-null    float64\n",
      " 10  PTRATIO  506 non-null    float64\n",
      " 11  B        506 non-null    float64\n",
      " 12  LSTAT    506 non-null    float64\n",
      "dtypes: float64(13)\n",
      "memory usage: 51.5 KB\n"
     ]
    }
   ],
   "source": [
    "X.info()"
   ]
  },
  {
   "cell_type": "code",
   "execution_count": 91,
   "id": "2bb69c77",
   "metadata": {},
   "outputs": [
    {
     "name": "stdout",
     "output_type": "stream",
     "text": [
      "<class 'pandas.core.frame.DataFrame'>\n",
      "RangeIndex: 506 entries, 0 to 505\n",
      "Data columns (total 1 columns):\n",
      " #   Column  Non-Null Count  Dtype  \n",
      "---  ------  --------------  -----  \n",
      " 0   price   506 non-null    float64\n",
      "dtypes: float64(1)\n",
      "memory usage: 4.1 KB\n"
     ]
    }
   ],
   "source": [
    "y = pd.DataFrame(target, columns=[\"price\"])\n",
    "\n",
    "y.info()"
   ]
  },
  {
   "cell_type": "code",
   "execution_count": 92,
   "id": "cb4139d2",
   "metadata": {},
   "outputs": [],
   "source": [
    "# Разбейте эти датафреймы на тренировочные (X_train, y_train) и тестовые (X_test, y_test)\n",
    "# с помощью функции train_test_split так, чтобы размер тестовой выборки составлял 20% от всех данных,\n",
    "# при этом аргумент random_state должен быть равен 42.\n",
    "from sklearn.model_selection import train_test_split\n",
    "\n",
    "X_train, X_test, y_train, y_test = train_test_split(X, y, test_size=0.2, random_state=42)"
   ]
  },
  {
   "cell_type": "code",
   "execution_count": 93,
   "id": "0718c6d8",
   "metadata": {},
   "outputs": [],
   "source": [
    "# Масштабируйте данные с помощью StandardScaler.\n",
    "from sklearn.preprocessing import StandardScaler\n",
    "\n",
    "scaler = StandardScaler()"
   ]
  },
  {
   "cell_type": "code",
   "execution_count": 94,
   "id": "aac98014",
   "metadata": {},
   "outputs": [
    {
     "data": {
      "text/html": [
       "<div>\n",
       "<style scoped>\n",
       "    .dataframe tbody tr th:only-of-type {\n",
       "        vertical-align: middle;\n",
       "    }\n",
       "\n",
       "    .dataframe tbody tr th {\n",
       "        vertical-align: top;\n",
       "    }\n",
       "\n",
       "    .dataframe thead th {\n",
       "        text-align: right;\n",
       "    }\n",
       "</style>\n",
       "<table border=\"1\" class=\"dataframe\">\n",
       "  <thead>\n",
       "    <tr style=\"text-align: right;\">\n",
       "      <th></th>\n",
       "      <th>CRIM</th>\n",
       "      <th>ZN</th>\n",
       "      <th>INDUS</th>\n",
       "      <th>CHAS</th>\n",
       "      <th>NOX</th>\n",
       "      <th>RM</th>\n",
       "      <th>AGE</th>\n",
       "      <th>DIS</th>\n",
       "      <th>RAD</th>\n",
       "      <th>TAX</th>\n",
       "      <th>PTRATIO</th>\n",
       "      <th>B</th>\n",
       "      <th>LSTAT</th>\n",
       "    </tr>\n",
       "  </thead>\n",
       "  <tbody>\n",
       "    <tr>\n",
       "      <th>0</th>\n",
       "      <td>1.287702</td>\n",
       "      <td>-0.500320</td>\n",
       "      <td>1.033237</td>\n",
       "      <td>-0.278089</td>\n",
       "      <td>0.489252</td>\n",
       "      <td>-1.428069</td>\n",
       "      <td>1.028015</td>\n",
       "      <td>-0.802173</td>\n",
       "      <td>1.706891</td>\n",
       "      <td>1.578434</td>\n",
       "      <td>0.845343</td>\n",
       "      <td>-0.074337</td>\n",
       "      <td>1.753505</td>\n",
       "    </tr>\n",
       "    <tr>\n",
       "      <th>1</th>\n",
       "      <td>-0.336384</td>\n",
       "      <td>-0.500320</td>\n",
       "      <td>-0.413160</td>\n",
       "      <td>-0.278089</td>\n",
       "      <td>-0.157233</td>\n",
       "      <td>-0.680087</td>\n",
       "      <td>-0.431199</td>\n",
       "      <td>0.324349</td>\n",
       "      <td>-0.624360</td>\n",
       "      <td>-0.584648</td>\n",
       "      <td>1.204741</td>\n",
       "      <td>0.430184</td>\n",
       "      <td>-0.561474</td>\n",
       "    </tr>\n",
       "    <tr>\n",
       "      <th>2</th>\n",
       "      <td>-0.403253</td>\n",
       "      <td>1.013271</td>\n",
       "      <td>-0.715218</td>\n",
       "      <td>-0.278089</td>\n",
       "      <td>-1.008723</td>\n",
       "      <td>-0.402063</td>\n",
       "      <td>-1.618599</td>\n",
       "      <td>1.330697</td>\n",
       "      <td>-0.974048</td>\n",
       "      <td>-0.602724</td>\n",
       "      <td>-0.637176</td>\n",
       "      <td>0.065297</td>\n",
       "      <td>-0.651595</td>\n",
       "    </tr>\n",
       "    <tr>\n",
       "      <th>3</th>\n",
       "      <td>0.388230</td>\n",
       "      <td>-0.500320</td>\n",
       "      <td>1.033237</td>\n",
       "      <td>-0.278089</td>\n",
       "      <td>0.489252</td>\n",
       "      <td>-0.300450</td>\n",
       "      <td>0.591681</td>\n",
       "      <td>-0.839240</td>\n",
       "      <td>1.706891</td>\n",
       "      <td>1.578434</td>\n",
       "      <td>0.845343</td>\n",
       "      <td>-3.868193</td>\n",
       "      <td>1.525387</td>\n",
       "    </tr>\n",
       "    <tr>\n",
       "      <th>4</th>\n",
       "      <td>-0.325282</td>\n",
       "      <td>-0.500320</td>\n",
       "      <td>-0.413160</td>\n",
       "      <td>-0.278089</td>\n",
       "      <td>-0.157233</td>\n",
       "      <td>-0.831094</td>\n",
       "      <td>0.033747</td>\n",
       "      <td>-0.005494</td>\n",
       "      <td>-0.624360</td>\n",
       "      <td>-0.584648</td>\n",
       "      <td>1.204741</td>\n",
       "      <td>0.379119</td>\n",
       "      <td>-0.165787</td>\n",
       "    </tr>\n",
       "  </tbody>\n",
       "</table>\n",
       "</div>"
      ],
      "text/plain": [
       "       CRIM        ZN     INDUS      CHAS       NOX        RM       AGE  \\\n",
       "0  1.287702 -0.500320  1.033237 -0.278089  0.489252 -1.428069  1.028015   \n",
       "1 -0.336384 -0.500320 -0.413160 -0.278089 -0.157233 -0.680087 -0.431199   \n",
       "2 -0.403253  1.013271 -0.715218 -0.278089 -1.008723 -0.402063 -1.618599   \n",
       "3  0.388230 -0.500320  1.033237 -0.278089  0.489252 -0.300450  0.591681   \n",
       "4 -0.325282 -0.500320 -0.413160 -0.278089 -0.157233 -0.831094  0.033747   \n",
       "\n",
       "        DIS       RAD       TAX   PTRATIO         B     LSTAT  \n",
       "0 -0.802173  1.706891  1.578434  0.845343 -0.074337  1.753505  \n",
       "1  0.324349 -0.624360 -0.584648  1.204741  0.430184 -0.561474  \n",
       "2  1.330697 -0.974048 -0.602724 -0.637176  0.065297 -0.651595  \n",
       "3 -0.839240  1.706891  1.578434  0.845343 -3.868193  1.525387  \n",
       "4 -0.005494 -0.624360 -0.584648  1.204741  0.379119 -0.165787  "
      ]
     },
     "execution_count": 94,
     "metadata": {},
     "output_type": "execute_result"
    }
   ],
   "source": [
    "X_train_scaled = scaler.fit_transform(X_train)\n",
    "X_train_scaled = pd.DataFrame(X_train_scaled, columns=feature_names)\n",
    "\n",
    "X_test_scaled = scaler.fit_transform(X_test)\n",
    "X_test_scaled = pd.DataFrame(X_test_scaled, columns=feature_names)\n",
    "\n",
    "X_train_scaled.head()"
   ]
  },
  {
   "cell_type": "code",
   "execution_count": 95,
   "id": "72787ba4",
   "metadata": {},
   "outputs": [
    {
     "data": {
      "text/html": [
       "<div>\n",
       "<style scoped>\n",
       "    .dataframe tbody tr th:only-of-type {\n",
       "        vertical-align: middle;\n",
       "    }\n",
       "\n",
       "    .dataframe tbody tr th {\n",
       "        vertical-align: top;\n",
       "    }\n",
       "\n",
       "    .dataframe thead th {\n",
       "        text-align: right;\n",
       "    }\n",
       "</style>\n",
       "<table border=\"1\" class=\"dataframe\">\n",
       "  <thead>\n",
       "    <tr style=\"text-align: right;\">\n",
       "      <th></th>\n",
       "      <th>CRIM</th>\n",
       "      <th>ZN</th>\n",
       "      <th>INDUS</th>\n",
       "      <th>CHAS</th>\n",
       "      <th>NOX</th>\n",
       "      <th>RM</th>\n",
       "      <th>AGE</th>\n",
       "      <th>DIS</th>\n",
       "      <th>RAD</th>\n",
       "      <th>TAX</th>\n",
       "      <th>PTRATIO</th>\n",
       "      <th>B</th>\n",
       "      <th>LSTAT</th>\n",
       "    </tr>\n",
       "  </thead>\n",
       "  <tbody>\n",
       "    <tr>\n",
       "      <th>0</th>\n",
       "      <td>-0.476787</td>\n",
       "      <td>-0.440186</td>\n",
       "      <td>-1.149219</td>\n",
       "      <td>-0.25</td>\n",
       "      <td>-0.348009</td>\n",
       "      <td>0.386286</td>\n",
       "      <td>0.537480</td>\n",
       "      <td>-0.548087</td>\n",
       "      <td>-0.582846</td>\n",
       "      <td>-0.729893</td>\n",
       "      <td>-1.338941</td>\n",
       "      <td>0.413084</td>\n",
       "      <td>-0.608716</td>\n",
       "    </tr>\n",
       "    <tr>\n",
       "      <th>1</th>\n",
       "      <td>-0.481548</td>\n",
       "      <td>1.228922</td>\n",
       "      <td>-0.796429</td>\n",
       "      <td>4.00</td>\n",
       "      <td>-0.930972</td>\n",
       "      <td>0.904026</td>\n",
       "      <td>-1.243458</td>\n",
       "      <td>0.167253</td>\n",
       "      <td>-0.692532</td>\n",
       "      <td>-0.967732</td>\n",
       "      <td>-0.780821</td>\n",
       "      <td>0.428606</td>\n",
       "      <td>-1.373038</td>\n",
       "    </tr>\n",
       "    <tr>\n",
       "      <th>2</th>\n",
       "      <td>-0.474906</td>\n",
       "      <td>-0.440186</td>\n",
       "      <td>2.392130</td>\n",
       "      <td>-0.25</td>\n",
       "      <td>0.568076</td>\n",
       "      <td>-0.269215</td>\n",
       "      <td>1.048804</td>\n",
       "      <td>-0.937018</td>\n",
       "      <td>-0.692532</td>\n",
       "      <td>1.620178</td>\n",
       "      <td>0.614479</td>\n",
       "      <td>0.353326</td>\n",
       "      <td>0.643885</td>\n",
       "    </tr>\n",
       "    <tr>\n",
       "      <th>3</th>\n",
       "      <td>-0.476806</td>\n",
       "      <td>-0.440186</td>\n",
       "      <td>-0.138686</td>\n",
       "      <td>-0.25</td>\n",
       "      <td>-1.245586</td>\n",
       "      <td>-0.145078</td>\n",
       "      <td>-2.116535</td>\n",
       "      <td>0.771841</td>\n",
       "      <td>-0.692532</td>\n",
       "      <td>-0.678928</td>\n",
       "      <td>0.112171</td>\n",
       "      <td>0.362195</td>\n",
       "      <td>-1.096995</td>\n",
       "    </tr>\n",
       "    <tr>\n",
       "      <th>4</th>\n",
       "      <td>0.196583</td>\n",
       "      <td>-0.440186</td>\n",
       "      <td>0.951075</td>\n",
       "      <td>-0.25</td>\n",
       "      <td>1.530427</td>\n",
       "      <td>0.206137</td>\n",
       "      <td>0.805317</td>\n",
       "      <td>-0.687076</td>\n",
       "      <td>1.501204</td>\n",
       "      <td>1.365351</td>\n",
       "      <td>0.670291</td>\n",
       "      <td>0.297669</td>\n",
       "      <td>0.532912</td>\n",
       "    </tr>\n",
       "  </tbody>\n",
       "</table>\n",
       "</div>"
      ],
      "text/plain": [
       "       CRIM        ZN     INDUS  CHAS       NOX        RM       AGE       DIS  \\\n",
       "0 -0.476787 -0.440186 -1.149219 -0.25 -0.348009  0.386286  0.537480 -0.548087   \n",
       "1 -0.481548  1.228922 -0.796429  4.00 -0.930972  0.904026 -1.243458  0.167253   \n",
       "2 -0.474906 -0.440186  2.392130 -0.25  0.568076 -0.269215  1.048804 -0.937018   \n",
       "3 -0.476806 -0.440186 -0.138686 -0.25 -1.245586 -0.145078 -2.116535  0.771841   \n",
       "4  0.196583 -0.440186  0.951075 -0.25  1.530427  0.206137  0.805317 -0.687076   \n",
       "\n",
       "        RAD       TAX   PTRATIO         B     LSTAT  \n",
       "0 -0.582846 -0.729893 -1.338941  0.413084 -0.608716  \n",
       "1 -0.692532 -0.967732 -0.780821  0.428606 -1.373038  \n",
       "2 -0.692532  1.620178  0.614479  0.353326  0.643885  \n",
       "3 -0.692532 -0.678928  0.112171  0.362195 -1.096995  \n",
       "4  1.501204  1.365351  0.670291  0.297669  0.532912  "
      ]
     },
     "execution_count": 95,
     "metadata": {},
     "output_type": "execute_result"
    }
   ],
   "source": [
    "X_test_scaled.head()"
   ]
  },
  {
   "cell_type": "code",
   "execution_count": 96,
   "id": "44048f0b",
   "metadata": {},
   "outputs": [
    {
     "data": {
      "text/plain": [
       "((404, 13), (102, 13))"
      ]
     },
     "execution_count": 96,
     "metadata": {},
     "output_type": "execute_result"
    }
   ],
   "source": [
    "X_train_scaled.shape, X_test_scaled.shape"
   ]
  },
  {
   "cell_type": "code",
   "execution_count": 97,
   "id": "ab54628e",
   "metadata": {},
   "outputs": [
    {
     "name": "stderr",
     "output_type": "stream",
     "text": [
      "/home/nevl/anaconda3/envs/learn/lib/python3.9/site-packages/sklearn/manifold/_t_sne.py:780: FutureWarning: The default initialization in TSNE will change from 'random' to 'pca' in 1.2.\n",
      "  warnings.warn(\n"
     ]
    },
    {
     "name": "stdout",
     "output_type": "stream",
     "text": [
      "Before:\t(404, 13)\n",
      "After:\t(404, 2)\n"
     ]
    }
   ],
   "source": [
    "# Постройте модель TSNE на тренировочный данных с параметрами: n_components=2, learning_rate=250, random_state=42.\n",
    "from sklearn.manifold import TSNE\n",
    "\n",
    "tsne = TSNE(n_components=2, learning_rate=250, random_state=42)\n",
    "\n",
    "X_train_tsne = tsne.fit_transform(X_train_scaled)\n",
    "\n",
    "print('Before:\\t{}'.format(X_train_scaled.shape))\n",
    "print('After:\\t{}'.format(X_train_tsne.shape))"
   ]
  },
  {
   "cell_type": "code",
   "execution_count": 98,
   "id": "74600adf",
   "metadata": {},
   "outputs": [
    {
     "data": {
      "image/png": "[encoded data removed]",
      "text/plain": [
       "<Figure size 432x288 with 1 Axes>"
      ]
     },
     "metadata": {
      "needs_background": "light"
     },
     "output_type": "display_data"
    }
   ],
   "source": [
    "plt.scatter(X_train_tsne[:, 0], X_train_tsne[:, 1])\n",
    "\n",
    "plt.show()"
   ]
  },
  {
   "cell_type": "code",
   "execution_count": 99,
   "id": "7107cab5",
   "metadata": {},
   "outputs": [
    {
     "data": {
      "text/html": [
       "<div>\n",
       "<style scoped>\n",
       "    .dataframe tbody tr th:only-of-type {\n",
       "        vertical-align: middle;\n",
       "    }\n",
       "\n",
       "    .dataframe tbody tr th {\n",
       "        vertical-align: top;\n",
       "    }\n",
       "\n",
       "    .dataframe thead th {\n",
       "        text-align: right;\n",
       "    }\n",
       "</style>\n",
       "<table border=\"1\" class=\"dataframe\">\n",
       "  <thead>\n",
       "    <tr style=\"text-align: right;\">\n",
       "      <th></th>\n",
       "      <th>First</th>\n",
       "      <th>Second</th>\n",
       "    </tr>\n",
       "  </thead>\n",
       "  <tbody>\n",
       "    <tr>\n",
       "      <th>0</th>\n",
       "      <td>18.104149</td>\n",
       "      <td>29.184141</td>\n",
       "    </tr>\n",
       "    <tr>\n",
       "      <th>1</th>\n",
       "      <td>3.364461</td>\n",
       "      <td>-7.909668</td>\n",
       "    </tr>\n",
       "    <tr>\n",
       "      <th>2</th>\n",
       "      <td>-20.716751</td>\n",
       "      <td>-8.947255</td>\n",
       "    </tr>\n",
       "    <tr>\n",
       "      <th>3</th>\n",
       "      <td>27.654587</td>\n",
       "      <td>26.636459</td>\n",
       "    </tr>\n",
       "    <tr>\n",
       "      <th>4</th>\n",
       "      <td>4.359419</td>\n",
       "      <td>-7.439229</td>\n",
       "    </tr>\n",
       "  </tbody>\n",
       "</table>\n",
       "</div>"
      ],
      "text/plain": [
       "       First     Second\n",
       "0  18.104149  29.184141\n",
       "1   3.364461  -7.909668\n",
       "2 -20.716751  -8.947255\n",
       "3  27.654587  26.636459\n",
       "4   4.359419  -7.439229"
      ]
     },
     "execution_count": 99,
     "metadata": {},
     "output_type": "execute_result"
    }
   ],
   "source": [
    "X_train_tsne_df = pd.DataFrame(X_train_tsne, columns=['First', 'Second'])\n",
    "\n",
    "X_train_tsne_df.head()"
   ]
  },
  {
   "cell_type": "code",
   "execution_count": 100,
   "id": "9fb04f57",
   "metadata": {},
   "outputs": [
    {
     "data": {
      "text/plain": [
       "<AxesSubplot:xlabel='First', ylabel='Second'>"
      ]
     },
     "execution_count": 100,
     "metadata": {},
     "output_type": "execute_result"
    },
    {
     "data": {
      "image/png": "[encoded data removed]",
      "text/plain": [
       "<Figure size 432x288 with 1 Axes>"
      ]
     },
     "metadata": {
      "needs_background": "light"
     },
     "output_type": "display_data"
    }
   ],
   "source": [
    "# Постройте диаграмму рассеяния на этих данных.\n",
    "import seaborn as sns\n",
    "\n",
    "sns.scatterplot(data=X_train_tsne_df, x='First', y='Second')"
   ]
  },
  {
   "cell_type": "markdown",
   "id": "1b7fa28c",
   "metadata": {},
   "source": [
    "## Task 2"
   ]
  },
  {
   "cell_type": "markdown",
   "id": "9e1bdc31",
   "metadata": {},
   "source": [
    "С помощью KMeans разбейте данные из тренировочного набора на 3 кластера, используйте все признаки из датафрейма X_train.\n",
    "\n",
    "Параметр max_iter должен быть равен 100, random_state сделайте равным 42.\n",
    "\n",
    "Постройте еще раз диаграмму рассеяния на данных, полученных с помощью TSNE, и раскрасьте точки из разных кластеров разными цветами.\n",
    "\n",
    "Вычислите средние значения price и CRIM в разных кластерах."
   ]
  },
  {
   "cell_type": "code",
   "execution_count": 101,
   "id": "cebd9cf5",
   "metadata": {},
   "outputs": [],
   "source": [
    "# С помощью KMeans разбейте данные из тренировочного набора на 3 кластера,\n",
    "# используйте все признаки из датафрейма X_train.\n",
    "from sklearn.cluster import KMeans\n",
    "\n",
    "kmeans = KMeans(n_clusters=3)"
   ]
  },
  {
   "cell_type": "code",
   "execution_count": 102,
   "id": "a2decd5e",
   "metadata": {},
   "outputs": [
    {
     "data": {
      "image/png": "[encoded data removed]",
      "text/plain": [
       "<Figure size 432x288 with 1 Axes>"
      ]
     },
     "metadata": {
      "needs_background": "light"
     },
     "output_type": "display_data"
    }
   ],
   "source": [
    "labels_train = kmeans.fit_predict(X_train_scaled)\n",
    "\n",
    "plt.scatter(X_train_tsne[:, 0], X_train_tsne[:, 1], c=labels_train)\n",
    "\n",
    "plt.show()"
   ]
  },
  {
   "cell_type": "code",
   "execution_count": 103,
   "id": "8a23ac36",
   "metadata": {},
   "outputs": [
    {
     "data": {
      "image/png": "[encoded data removed]",
      "text/plain": [
       "<Figure size 432x288 with 1 Axes>"
      ]
     },
     "metadata": {
      "needs_background": "light"
     },
     "output_type": "display_data"
    }
   ],
   "source": [
    "# Параметр max_iter должен быть равен 100, random_state сделайте равным 42.\n",
    "kmeans2 = KMeans(n_clusters=3, max_iter=100, random_state=42)\n",
    "\n",
    "labels_train2 = kmeans2.fit_predict(X_train_scaled)\n",
    "\n",
    "plt.scatter(X_train_tsne[:, 0], X_train_tsne[:, 1], c=labels_train2)\n",
    "\n",
    "plt.show()"
   ]
  },
  {
   "cell_type": "code",
   "execution_count": 104,
   "id": "01357fb7",
   "metadata": {},
   "outputs": [
    {
     "data": {
      "text/plain": [
       "<AxesSubplot:xlabel='First', ylabel='Second'>"
      ]
     },
     "execution_count": 104,
     "metadata": {},
     "output_type": "execute_result"
    },
    {
     "data": {
      "image/png": "[encoded data removed]",
      "text/plain": [
       "<Figure size 432x288 with 1 Axes>"
      ]
     },
     "metadata": {
      "needs_background": "light"
     },
     "output_type": "display_data"
    }
   ],
   "source": [
    "# Постройте еще раз диаграмму рассеяния на данных, полученных с помощью TSNE,\n",
    "# и раскрасьте точки из разных кластеров разными цветами.\n",
    "sns.scatterplot(data=X_train_tsne_df, x='First', y='Second', c=labels_train2)"
   ]
  },
  {
   "cell_type": "code",
   "execution_count": 105,
   "id": "5340e02b",
   "metadata": {},
   "outputs": [
    {
     "name": "stdout",
     "output_type": "stream",
     "text": [
      "<class 'pandas.core.frame.DataFrame'>\n",
      "RangeIndex: 506 entries, 0 to 505\n",
      "Data columns (total 13 columns):\n",
      " #   Column   Non-Null Count  Dtype  \n",
      "---  ------   --------------  -----  \n",
      " 0   CRIM     506 non-null    float64\n",
      " 1   ZN       506 non-null    float64\n",
      " 2   INDUS    506 non-null    float64\n",
      " 3   CHAS     506 non-null    float64\n",
      " 4   NOX      506 non-null    float64\n",
      " 5   RM       506 non-null    float64\n",
      " 6   AGE      506 non-null    float64\n",
      " 7   DIS      506 non-null    float64\n",
      " 8   RAD      506 non-null    float64\n",
      " 9   TAX      506 non-null    float64\n",
      " 10  PTRATIO  506 non-null    float64\n",
      " 11  B        506 non-null    float64\n",
      " 12  LSTAT    506 non-null    float64\n",
      "dtypes: float64(13)\n",
      "memory usage: 51.5 KB\n"
     ]
    }
   ],
   "source": [
    "# Вычислите средние значения price и CRIM в разных кластерах.\n",
    "X.info()"
   ]
  },
  {
   "cell_type": "code",
   "execution_count": 106,
   "id": "f0d07450",
   "metadata": {},
   "outputs": [
    {
     "data": {
      "text/html": [
       "<div>\n",
       "<style scoped>\n",
       "    .dataframe tbody tr th:only-of-type {\n",
       "        vertical-align: middle;\n",
       "    }\n",
       "\n",
       "    .dataframe tbody tr th {\n",
       "        vertical-align: top;\n",
       "    }\n",
       "\n",
       "    .dataframe thead th {\n",
       "        text-align: right;\n",
       "    }\n",
       "</style>\n",
       "<table border=\"1\" class=\"dataframe\">\n",
       "  <thead>\n",
       "    <tr style=\"text-align: right;\">\n",
       "      <th></th>\n",
       "      <th>CRIM</th>\n",
       "      <th>ZN</th>\n",
       "      <th>INDUS</th>\n",
       "      <th>CHAS</th>\n",
       "      <th>NOX</th>\n",
       "      <th>RM</th>\n",
       "      <th>AGE</th>\n",
       "      <th>DIS</th>\n",
       "      <th>RAD</th>\n",
       "      <th>TAX</th>\n",
       "      <th>PTRATIO</th>\n",
       "      <th>B</th>\n",
       "      <th>LSTAT</th>\n",
       "    </tr>\n",
       "  </thead>\n",
       "  <tbody>\n",
       "    <tr>\n",
       "      <th>477</th>\n",
       "      <td>15.02340</td>\n",
       "      <td>0.0</td>\n",
       "      <td>18.10</td>\n",
       "      <td>0.0</td>\n",
       "      <td>0.6140</td>\n",
       "      <td>5.304</td>\n",
       "      <td>97.3</td>\n",
       "      <td>2.1007</td>\n",
       "      <td>24.0</td>\n",
       "      <td>666.0</td>\n",
       "      <td>20.2</td>\n",
       "      <td>349.48</td>\n",
       "      <td>24.91</td>\n",
       "    </tr>\n",
       "    <tr>\n",
       "      <th>15</th>\n",
       "      <td>0.62739</td>\n",
       "      <td>0.0</td>\n",
       "      <td>8.14</td>\n",
       "      <td>0.0</td>\n",
       "      <td>0.5380</td>\n",
       "      <td>5.834</td>\n",
       "      <td>56.5</td>\n",
       "      <td>4.4986</td>\n",
       "      <td>4.0</td>\n",
       "      <td>307.0</td>\n",
       "      <td>21.0</td>\n",
       "      <td>395.62</td>\n",
       "      <td>8.47</td>\n",
       "    </tr>\n",
       "    <tr>\n",
       "      <th>332</th>\n",
       "      <td>0.03466</td>\n",
       "      <td>35.0</td>\n",
       "      <td>6.06</td>\n",
       "      <td>0.0</td>\n",
       "      <td>0.4379</td>\n",
       "      <td>6.031</td>\n",
       "      <td>23.3</td>\n",
       "      <td>6.6407</td>\n",
       "      <td>1.0</td>\n",
       "      <td>304.0</td>\n",
       "      <td>16.9</td>\n",
       "      <td>362.25</td>\n",
       "      <td>7.83</td>\n",
       "    </tr>\n",
       "    <tr>\n",
       "      <th>423</th>\n",
       "      <td>7.05042</td>\n",
       "      <td>0.0</td>\n",
       "      <td>18.10</td>\n",
       "      <td>0.0</td>\n",
       "      <td>0.6140</td>\n",
       "      <td>6.103</td>\n",
       "      <td>85.1</td>\n",
       "      <td>2.0218</td>\n",
       "      <td>24.0</td>\n",
       "      <td>666.0</td>\n",
       "      <td>20.2</td>\n",
       "      <td>2.52</td>\n",
       "      <td>23.29</td>\n",
       "    </tr>\n",
       "    <tr>\n",
       "      <th>19</th>\n",
       "      <td>0.72580</td>\n",
       "      <td>0.0</td>\n",
       "      <td>8.14</td>\n",
       "      <td>0.0</td>\n",
       "      <td>0.5380</td>\n",
       "      <td>5.727</td>\n",
       "      <td>69.5</td>\n",
       "      <td>3.7965</td>\n",
       "      <td>4.0</td>\n",
       "      <td>307.0</td>\n",
       "      <td>21.0</td>\n",
       "      <td>390.95</td>\n",
       "      <td>11.28</td>\n",
       "    </tr>\n",
       "  </tbody>\n",
       "</table>\n",
       "</div>"
      ],
      "text/plain": [
       "         CRIM    ZN  INDUS  CHAS     NOX     RM   AGE     DIS   RAD    TAX  \\\n",
       "477  15.02340   0.0  18.10   0.0  0.6140  5.304  97.3  2.1007  24.0  666.0   \n",
       "15    0.62739   0.0   8.14   0.0  0.5380  5.834  56.5  4.4986   4.0  307.0   \n",
       "332   0.03466  35.0   6.06   0.0  0.4379  6.031  23.3  6.6407   1.0  304.0   \n",
       "423   7.05042   0.0  18.10   0.0  0.6140  6.103  85.1  2.0218  24.0  666.0   \n",
       "19    0.72580   0.0   8.14   0.0  0.5380  5.727  69.5  3.7965   4.0  307.0   \n",
       "\n",
       "     PTRATIO       B  LSTAT  \n",
       "477     20.2  349.48  24.91  \n",
       "15      21.0  395.62   8.47  \n",
       "332     16.9  362.25   7.83  \n",
       "423     20.2    2.52  23.29  \n",
       "19      21.0  390.95  11.28  "
      ]
     },
     "execution_count": 106,
     "metadata": {},
     "output_type": "execute_result"
    }
   ],
   "source": [
    "X_train.head()"
   ]
  },
  {
   "cell_type": "code",
   "execution_count": 107,
   "id": "9a5ea808",
   "metadata": {},
   "outputs": [
    {
     "data": {
      "text/plain": [
       "(86, 127, 191)"
      ]
     },
     "execution_count": 107,
     "metadata": {},
     "output_type": "execute_result"
    }
   ],
   "source": [
    "len(X_train['CRIM'][labels_train2==0]), len(X_train['CRIM'][labels_train2==1]), len(X_train['CRIM'][labels_train2==2])"
   ]
  },
  {
   "cell_type": "code",
   "execution_count": 108,
   "id": "5bae5ea2",
   "metadata": {},
   "outputs": [
    {
     "name": "stdout",
     "output_type": "stream",
     "text": [
      "0 cluster mean: CRIM = 0.07356558139534886, price = price    27.788372\n",
      "dtype: float64\n",
      "1 cluster mean: CRIM = 10.797028425196853, price = price    16.165354\n",
      "dtype: float64\n",
      "2 cluster mean: CRIM = 0.42166020942408367, price = price    24.958115\n",
      "dtype: float64\n"
     ]
    }
   ],
   "source": [
    "for i in range(0, 3):\n",
    "    crim_mean = X_train['CRIM'][labels_train2 == i].mean()\n",
    "    price_mean = y_train[labels_train2 == i].mean()\n",
    "    \n",
    "    print('{} cluster mean: CRIM = {}, price = {}'.format(i, crim_mean, price_mean))"
   ]
  },
  {
   "cell_type": "markdown",
   "id": "7743b04f",
   "metadata": {},
   "source": [
    "## Task 3"
   ]
  },
  {
   "cell_type": "markdown",
   "id": "dd76aa73",
   "metadata": {},
   "source": [
    "Примените модель KMeans, построенную в предыдущем задании, к данным из тестового набора.\n",
    "\n",
    "Вычислите средние значения price и CRIM в разных кластерах на тестовых данных."
   ]
  },
  {
   "cell_type": "code",
   "execution_count": 109,
   "id": "a4c7cc0e",
   "metadata": {},
   "outputs": [
    {
     "data": {
      "text/plain": [
       "102"
      ]
     },
     "execution_count": 109,
     "metadata": {},
     "output_type": "execute_result"
    }
   ],
   "source": [
    "# Примените модель KMeans, построенную в предыдущем задании, к данным из тестового набора.\n",
    "labels_test = kmeans.predict(X_test_scaled)\n",
    "len(labels_test)"
   ]
  },
  {
   "cell_type": "code",
   "execution_count": 110,
   "id": "5a9c5f8f",
   "metadata": {},
   "outputs": [
    {
     "name": "stdout",
     "output_type": "stream",
     "text": [
      "0 cluster mean: CRIM = 0.2845831111111111, price = price    22.031111\n",
      "dtype: float64\n",
      "1 cluster mean: CRIM = 10.165531142857143, price = price    16.437143\n",
      "dtype: float64\n",
      "2 cluster mean: CRIM = 0.07985181818181818, price = price    28.413636\n",
      "dtype: float64\n"
     ]
    }
   ],
   "source": [
    "#Вычислите средние значения price и CRIM в разных кластерах на тестовых данных.\n",
    "for i in range(0, 3):\n",
    "    crim_mean = X_test['CRIM'][labels_test == i].mean()\n",
    "    price_mean = y_test[labels_test == i].mean()\n",
    "    \n",
    "    print('{} cluster mean: CRIM = {}, price = {}'.format(i, crim_mean, price_mean))"
   ]
  }
 ],
 "metadata": {
  "kernelspec": {
   "display_name": "Python 3 (ipykernel)",
   "language": "python",
   "name": "python3"
  },
  "language_info": {
   "codemirror_mode": {
    "name": "ipython",
    "version": 3
   },
   "file_extension": ".py",
   "mimetype": "text/x-python",
   "name": "python",
   "nbconvert_exporter": "python",
   "pygments_lexer": "ipython3",
   "version": "3.9.7"
  }
 },
 "nbformat": 4,
 "nbformat_minor": 5
}
